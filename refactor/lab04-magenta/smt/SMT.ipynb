{
 "cells": [
  {
   "cell_type": "markdown",
   "metadata": {},
   "source": [
    "# Lab 2022-04-22: Satisfiability Modulo Theories\n",
    "\n",
    "During this lab you will be using Z3 solver to deduce facts and solve combinatorial problems.\n",
    "\n",
    "There are two ways to use Z3, either via the [SMT-LIB](https://jfmc.github.io/z3-play/) language or via a [programmatic APIs](https://z3prover.github.io/api/html/index.html). First we'll see an example of the SMT-LIB interface, but we'll focus on the Python API. The material covered in the [Z3Py tutorial](https://ericpony.github.io/z3py-tutorial/guide-examples.htm) is enough for our purposes. For more examples and advanced usage you can look at the [SAT/SMT by Example](https://sat-smt.codes/SAT_SMT_by_example.pdf) book.\n"
   ]
  },
  {
   "cell_type": "markdown",
   "metadata": {},
   "source": [
    "## Using Z3 in Jupyter\n",
    "\n",
    "As an example we can use the solver to verify that, within the boolean logic, if $p\\Rightarrow q$ and $q\\Rightarrow r$, then $p\\Rightarrow r$ (transitivity of implication). This can be verified by showing that the formula $$((p\\Rightarrow q) \\land (q\\Rightarrow r)) \\Rightarrow (p\\Rightarrow r)$$ is a tautology: for any value True/False assigned to $ p, q , r$ the formula is true; or by checking that its negation $$\\neg(((p\\Rightarrow q) \\land (q\\Rightarrow r)) \\Rightarrow (p\\Rightarrow r))$$ cannot be satisfied.\n",
    "\n",
    "\n"
   ]
  },
  {
   "cell_type": "markdown",
   "metadata": {},
   "source": [
    "### SMT-LIB\n",
    "\n",
    "Code cells are executed by the selected kernel (Python 3, based on [IPython](https://ipython.readthedocs.io/en/stable/)), which provides [Magic commands](https://ipython.readthedocs.io/en/stable/interactive/magics.html) to a better interaction with the environment. In particular we'll use `%%script` command which works like the [Unix Shebang](https://en.wikipedia.org/wiki/Shebang_(Unix)) passing the content of the cell to the executing program as standard input."
   ]
  },
  {
   "cell_type": "code",
   "execution_count": 3,
   "metadata": {},
   "outputs": [
    {
     "name": "stdout",
     "output_type": "stream",
     "text": [
      "unsat\n"
     ]
    }
   ],
   "source": [
    "%%script z3 -in -smt2\n",
    "\n",
    "(declare-const p Bool)\n",
    "(declare-const q Bool)\n",
    "(declare-const r Bool)\n",
    "(assert (not (=> (and (=> p q) (=> q r))\n",
    "                 (=> p r))))\n",
    "(check-sat)"
   ]
  },
  {
   "cell_type": "markdown",
   "metadata": {},
   "source": [
    "The converse is not true, that is $$(p\\Rightarrow r) \\Rightarrow ((p\\Rightarrow q) \\land (q\\Rightarrow r))$$ is not a tautology:"
   ]
  },
  {
   "cell_type": "code",
   "execution_count": 4,
   "metadata": {},
   "outputs": [
    {
     "name": "stdout",
     "output_type": "stream",
     "text": [
      "sat\n"
     ]
    }
   ],
   "source": [
    "%%script z3 -in -smt2\n",
    "\n",
    "(declare-const p Bool)\n",
    "(declare-const q Bool)\n",
    "(declare-const r Bool)\n",
    "(assert (not (=> (=> p r)\n",
    "                 (and (=> p q) (=> q r)))))\n",
    "(check-sat)"
   ]
  },
  {
   "cell_type": "markdown",
   "metadata": {},
   "source": [
    "### Python API\n",
    "\n",
    "Let's see the same example using the Python API:"
   ]
  },
  {
   "cell_type": "code",
   "execution_count": null,
   "metadata": {},
   "outputs": [],
   "source": [
    "from z3 import *\n",
    "\n",
    "p, q, r = Bools('p q r')\n",
    "\n",
    "s = Solver()\n",
    "\n",
    "s.add(Not(Implies(And(Implies(p, q), Implies(q, r)), Implies(p, r))))\n",
    "print(s.check())\n"
   ]
  },
  {
   "cell_type": "markdown",
   "metadata": {},
   "source": [
    "Note that here we import the whole `z3` namespace, which is fine for small examples; but in general it might clash with names defined in your code."
   ]
  },
  {
   "cell_type": "markdown",
   "metadata": {},
   "source": [
    "Let's see the converse"
   ]
  },
  {
   "cell_type": "code",
   "execution_count": null,
   "metadata": {},
   "outputs": [],
   "source": [
    "from z3 import *\n",
    "\n",
    "p, q, r = Bools('p q r')\n",
    "\n",
    "s = Solver()\n",
    "\n",
    "s.add(Not(Implies(Implies(p, r), And(Implies(p, q), Implies(q, r)))))\n",
    "print(s.check())"
   ]
  },
  {
   "cell_type": "markdown",
   "metadata": {},
   "source": [
    "since the negation of the formula is satisfiable, it's not a tautology. We can look at the model for a counterexample:"
   ]
  },
  {
   "cell_type": "code",
   "execution_count": null,
   "metadata": {},
   "outputs": [],
   "source": [
    "print(f'A counterexample: {s.model()}')\n",
    "for v in [p, q, r]:\n",
    "    print(f'The value of {v} is {s.model()[v]}')\n"
   ]
  },
  {
   "cell_type": "markdown",
   "metadata": {},
   "source": [
    "## Z3 as SAT solver\n",
    "\n",
    "Z3 can be used to solve Boolean Satisfiability (SAT) problems. \n",
    "\n"
   ]
  },
  {
   "cell_type": "markdown",
   "metadata": {},
   "source": [
    "### Unicorn example\n",
    "\n",
    "Consider the unicorn example introduced during the lecture:\n",
    "\n",
    "-   If the unicorn is mythical, then it is immortal\n",
    "-   If the unicorn is not mythical, then it is a mortal mammal\n",
    "-   If the unicorn is either immortal or a mammal, then it is horned\n",
    "-   The unicorn is magical if it is horned\n",
    "\n",
    "Abstracting the domain using propositional variables\n",
    "\n",
    "-   $m$: the unicorn is mythical\n",
    "-   $i$: the unicorn is immortal\n",
    "-   $l$: the unicorn is mammal\n",
    "-   $h$: the unicorn is horned\n",
    "-   $g$: the unicorn is magical\n",
    "\n",
    "the above statements became\n",
    "\n",
    "$$(m\\rightarrow i)\\wedge(\\neg m \\rightarrow (\\neg i \\wedge l))\\wedge((i \\vee l) \\rightarrow h)\\wedge(h\\rightarrow g)$$\n",
    "\n",
    "The corresponding assertions are:"
   ]
  },
  {
   "cell_type": "code",
   "execution_count": null,
   "metadata": {},
   "outputs": [],
   "source": [
    "from z3 import *\n",
    "\n",
    "m, i, l, h, g = Bools('m i l h g')\n",
    "\n",
    "s = Solver()\n",
    "\n",
    "s.add(Implies(m, i))\n",
    "s.add(Implies(Not(m), And(Not(i), l)))\n",
    "s.add(Implies(Or(i, l), h))\n",
    "s.add(Implies(h, g))\n",
    "\n"
   ]
  },
  {
   "cell_type": "markdown",
   "metadata": {},
   "source": [
    "We can check that our assumptions are not contradictory:"
   ]
  },
  {
   "cell_type": "code",
   "execution_count": null,
   "metadata": {},
   "outputs": [],
   "source": [
    "s.check()"
   ]
  },
  {
   "cell_type": "markdown",
   "metadata": {},
   "source": [
    "Now we can answer some questions about the domain.\n",
    "\n",
    "1.  The unicorn must be mythical?\n",
    "\n",
    "To answer that we use a statement that negate the question, but that's just an assumption that we use to verify the property and then retract. To this end we can use the `push`, `pop` methods of the solver (more details in [Programming Z3](https://theory.stanford.edu/~nikolaj/programmingz3.html#sec-scopes)). The first creates a nested context and the second deletes it by retracting all assertions added after the push. So let's check whether the unicorn cannot be mythical (e.g., $m$ can be false):"
   ]
  },
  {
   "cell_type": "code",
   "execution_count": null,
   "metadata": {},
   "outputs": [],
   "source": [
    "\n",
    "print(s.assertions())\n",
    "\n",
    "s.push()\n",
    "s.add(Not(m))\n",
    "print(s.assertions())\n",
    "print(s.check())\n",
    "s.pop()\n",
    "\n",
    "\n",
    "s.push()\n",
    "s.add(m)\n",
    "print(s.assertions())\n",
    "print(s.check())\n",
    "s.pop()\n",
    "\n",
    "print(s.assertions())\n",
    "\n"
   ]
  },
  {
   "cell_type": "markdown",
   "metadata": {},
   "source": [
    "As you see $m$ can be both true or false, so we cannot tell anything about the unicorn being mythical. Now verify the other properties:"
   ]
  },
  {
   "cell_type": "markdown",
   "metadata": {},
   "source": [
    "2.  Must be magical?"
   ]
  },
  {
   "cell_type": "code",
   "execution_count": null,
   "metadata": {},
   "outputs": [],
   "source": [
    "print(s.assertions())\n",
    "s.push()\n",
    "s.add(Not(g))\n",
    "print(s.assertions())\n",
    "print(s.check())\n",
    "s.pop()\n",
    "print(s.assertions())"
   ]
  },
  {
   "cell_type": "markdown",
   "metadata": {},
   "source": [
    "3.  Must be horned?"
   ]
  },
  {
   "cell_type": "code",
   "execution_count": null,
   "metadata": {},
   "outputs": [],
   "source": [
    "print(s.assertions())\n",
    "s.push()\n",
    "s.add(Not(h))\n",
    "print(s.check())\n",
    "s.pop()\n",
    "print(s.assertions())"
   ]
  },
  {
   "cell_type": "markdown",
   "metadata": {},
   "source": [
    "### Graph colouring\n",
    "\n",
    "In the previous exercise we looked at SAT as a way to answer to questions; i.e. by focusing on logical deduction. However SAT can be used to find solutions to combinatorial (NP) problems. In this exercise we will consider the [Graph Colouring problem](https://en.wikipedia.org/wiki/Graph_coloring).\n",
    "\n",
    "As seen in the lecture Graph Colouring can be used to solve different problems (e.g. [scheduling](https://en.wikipedia.org/wiki/Graph_coloring#Scheduling)).\n",
    "\n",
    "Consider the following problem by James L. Hein:\n",
    "\n",
    "> Some people form committees to do various tasks. The problem is to schedule the committee meetings in as few time slots as possible.\n",
    "> We'll represent each person with a number. For example, let $S = \\{1, 2, 3, 4, 5, 6, 7\\}$ represent a set of seven people, and suppose they have formed six three-person committees as follows:\n",
    ">\n",
    "> $$S_1 = \\{1, 2, 3\\}, S_2 = \\{2, 3, 4\\}, S_3 = \\{3, 4, 5\\}, S_4 = \\{4, 5, 6\\}, S_5 = \\{5, 6, 7\\}, S_6 = \\{1, 6, 7\\}$$\n",
    ">\n",
    "> We can model the problem with a graph, where the committee names are the vertices and an edge connects two vertices if a person belongs to both committees represented by the vertices.\n",
    "> If each committee meets for one hour, what is the smallest number of hours needed for the committees to do their work?\n",
    "> From the graph, it follows that an edge between two committees means that they have at least one member in common. Thus, they cannot meet at the same time. No edge between committees means that they can meet at the same time. For example, committees $S_1$ and $S_4$ can meet at the same hour.\n",
    "\n",
    "Solve the problem using a graph colouring problem with Z3. Note that variables can be also created by means of Python comprehension:\n",
    "\n",
    "```python\n",
    "V = tuple(Bool(f's_{i}') for i in range(7))\n",
    "\n",
    "s = Solver()\n",
    "s.add(Or(V[0], V[1]))\n",
    "s.assertions()\n",
    "```\n",
    "\n",
    "note the `Bool` method (without the `s` at the end)."
   ]
  },
  {
   "cell_type": "code",
   "execution_count": 5,
   "metadata": {},
   "outputs": [
    {
     "name": "stdout",
     "output_type": "stream",
     "text": [
      "The smallest number of hours needed for the committees to do their work: 3\n"
     ]
    }
   ],
   "source": [
    "from z3 import *\n",
    "\n",
    "# Define the sets of people in each committee\n",
    "committees = [\n",
    "    [1, 2, 3],\n",
    "    [2, 3, 4],\n",
    "    [3, 4, 5],\n",
    "    [4, 5, 6],\n",
    "    [5, 6, 7],\n",
    "    [1, 6, 7]\n",
    "]\n",
    "\n",
    "hours = Int('hours')\n",
    "\n",
    "# Variables to represent which committees meet in time slot\n",
    "time_slots = [Int('slot_%d' % i) for i in range(len(committees))]\n",
    "\n",
    "\n",
    "constraints = []\n",
    "# Each committee meets in one hour\n",
    "constraints += [And(time_slots[i] >= 0, time_slots[i] <= hours) for i in range(len(committees))]\n",
    "\n",
    "# No two committees that share a person meet in the same time slot\n",
    "for i in range(len(committees)):\n",
    "    for j in range(i + 1, len(committees)):\n",
    "        if any(person in committees[i] for person in committees[j]):\n",
    "            constraints.append(time_slots[i] != time_slots[j])\n",
    "\n",
    "# Objective: minimize the number of hours\n",
    "optimize = Optimize()\n",
    "optimize.minimize(hours)\n",
    "\n",
    "# Solve the problem\n",
    "optimize.add(constraints)\n",
    "if optimize.check() == sat:\n",
    "    model = optimize.model()\n",
    "    min_hours = model[hours].as_long()\n",
    "    print(\"The smallest number of hours needed for the committees to do their work:\", min_hours + 1)\n",
    "else:\n",
    "    print(\"No solution found.\")\n"
   ]
  },
  {
   "cell_type": "markdown",
   "metadata": {},
   "source": [
    "## Z3 as SMT solver\n",
    "\n",
    "Z3 can also be used to solve set of assertions using different domains. Below an example with integers, see [Z3Py Guide](https://ericpony.github.io/z3py-tutorial/guide-examples.htm) for more."
   ]
  },
  {
   "cell_type": "markdown",
   "metadata": {},
   "source": [
    "### [Arithmetic](https://rise4fun.com/z3/tutorialcontent/guide#h24)\n",
    "\n",
    "$$(x - y \\leq 0) \\land (y - z \\leq 0) \\land ((z - x \\leq -1) \\lor (z - x \\leq -2))$$"
   ]
  },
  {
   "cell_type": "code",
   "execution_count": null,
   "metadata": {},
   "outputs": [],
   "source": [
    "from z3 import *\n",
    "\n",
    "x, y, z = Ints('x y z')\n",
    "\n",
    "s = Solver()\n",
    "\n",
    "s.add((x - y) <= 0)\n",
    "s.add((y - z) <= 0)\n",
    "s.add((z - x) <= -1)\n",
    "s.add((z - x) <= -2)\n",
    "\n",
    "print(s.assertions())\n",
    "\n",
    "if s.check() == sat:\n",
    "    print(f'Solution: {s.model()}')\n",
    "else:\n",
    "    print(\"Unsatisfiable\")"
   ]
  },
  {
   "cell_type": "markdown",
   "metadata": {},
   "source": [
    "$$(b \\lor (x + y \\leq 0)) \\land (\\neg b \\lor (x + z \\leq 10))$$"
   ]
  },
  {
   "cell_type": "code",
   "execution_count": null,
   "metadata": {},
   "outputs": [],
   "source": [
    "from z3 import *\n",
    "\n",
    "x, y, z = Ints('x y z')\n",
    "b = Bool('b')\n",
    "\n",
    "s = Solver()\n",
    "\n",
    "s.add(Or(b, (x + y) <= 0))\n",
    "s.add(Or(Not(b), (x + z) <= 10))\n",
    "\n",
    "print(s.assertions())\n",
    "\n",
    "if s.check() == sat:\n",
    "    print(f'Solution: {s.model()}')\n",
    "else:\n",
    "    print(\"Unsatisfiable\")"
   ]
  },
  {
   "cell_type": "markdown",
   "metadata": {},
   "source": [
    "## Minesweeper\n",
    "\n",
    "Let's consider the [Minesweeper](https://en.wikipedia.org/wiki/Minesweeper_(video_game)) game, where you have a grid of covered squares, some of which contain mines, but you don't know which. Your job is to uncover every square which does not contain a mine. If you uncover a square containing a mine, you lose. If you uncover a square which does not contain a mine, you are told how many mines are contained within the eight surrounding squares.\n",
    "\n",
    "Once you start unveiling the minefield you can deduce the location of mines by solving a system of equations by trying to *disprove* that in a specific cell you can place a mine. In order to do that you can represent each cell by an integer variable that contains the number of mines in the specific cell (0 or 1).\n",
    "\n",
    "For this exercise we will use a problem generator with the property that the generated problems can be always solved by deduction (mind that in general this is not the case). The generator is available on the [Simon Tatham's Portable Puzzle Collection](https://www.chiark.greenend.org.uk/~sgtatham/puzzles/js/mines.html) page:\n",
    "\n",
    "> The first square you open is guaranteed to be safe, and (by default) you are guaranteed to be able to solve the whole grid by deduction rather than guesswork. (Deductions may require you to think about the total number of mines.)\n",
    "\n",
    "An interesting instance you can try to solve is the following:\n",
    "\n",
    "[![sweeper example](media/sweeper_6x6-10.png)](https://www.chiark.greenend.org.uk/~sgtatham/puzzles/js/mines.html#6x6:2,2,m1bf215cfe)\n",
    "\n",
    "and you can use [this link](https://www.chiark.greenend.org.uk/~sgtatham/puzzles/js/mines.html#6x6:2,2,m1bf215cfe) to verify your solution. You should include below the Python code you're using to solve the instance.\n",
    "\n",
    "A convenient representation for the problem (useful later on) is a matrix of numbers representing the number of mines *seen* by the cell or '?' for the unknown cells. E.g the above example would correspond to\n",
    "\n",
    "    ??????\n",
    "    ?1123?\n",
    "    ?1003?\n",
    "    ?1002?\n",
    "    ?2234?\n",
    "    ??????\n",
    "\n",
    "You can use the Sudoku example in [Z3Py Guide](https://ericpony.github.io/z3py-tutorial/guide-examples.htm) as inspiration for your code. Note that solving the game might require several calls to the solver as well as the update of the facts you know about the board when you unveil more cells."
   ]
  },
  {
   "cell_type": "code",
   "execution_count": 6,
   "metadata": {},
   "outputs": [
    {
     "name": "stdout",
     "output_type": "stream",
     "text": [
      "Solution: [cell_0_4 = 1,\n",
      " cell_3_2 = 0,\n",
      " cell_3_0 = 0,\n",
      " cell_4_4 = 0,\n",
      " cell_1_4 = 0,\n",
      " cell_4_3 = 0,\n",
      " cell_5_2 = 1,\n",
      " cell_2_5 = 0,\n",
      " cell_4_0 = 0,\n",
      " cell_2_4 = 0,\n",
      " cell_3_5 = 1,\n",
      " cell_5_1 = 0,\n",
      " cell_4_2 = 0,\n",
      " cell_5_0 = 1,\n",
      " cell_1_5 = 0,\n",
      " cell_4_5 = 1,\n",
      " cell_5_3 = 1,\n",
      " cell_0_5 = 1,\n",
      " cell_3_4 = 0,\n",
      " cell_4_1 = 0,\n",
      " cell_1_2 = 0,\n",
      " cell_1_0 = 0,\n",
      " cell_1_3 = 0,\n",
      " cell_3_3 = 0,\n",
      " cell_0_2 = 0,\n",
      " cell_5_5 = 0,\n",
      " cell_2_0 = 1,\n",
      " cell_1_1 = 0,\n",
      " cell_0_3 = 1,\n",
      " cell_3_1 = 0,\n",
      " cell_0_1 = 0,\n",
      " cell_2_1 = 0,\n",
      " cell_5_4 = 1,\n",
      " cell_2_2 = 0,\n",
      " cell_2_3 = 0,\n",
      " cell_0_0 = 0]\n"
     ]
    }
   ],
   "source": [
    "solver = Solver()\n",
    "\n",
    "instance = [\n",
    "    [1, 1, 2, 3],\n",
    "    [1, 0, 0, 1],\n",
    "    [1, 0, 0, 2],\n",
    "    [2, 2, 3, 4]\n",
    "]\n",
    "\n",
    "map = [[Int(f'cell_{i}_{j}') for j in range(6)] for i in range(6)]\n",
    "\n",
    "for i in range(6):\n",
    "    for j in range(6):\n",
    "        solver.add(Or(map[i][j] == 0, map[i][j] == 1))\n",
    "\n",
    "directions = [(-1, -1), (-1, 0), (-1, 1), (0, -1), (0, 1), (1, 1), (1, 0), (1, -1)]\n",
    "\n",
    "for i in range(1, 5):\n",
    "    for j in range(1, 5):\n",
    "        neighbours = []\n",
    "        for direction in directions:\n",
    "            neighbours.append(map[i + direction[0]][j + direction[1]])\n",
    "        solver.add(sum(neighbours) == instance[i - 1][j - 1])\n",
    "\n",
    "if solver.check() == sat:\n",
    "    model = solver.model()\n",
    "    print(f'Solution: {model}')\n",
    "else:\n",
    "    print(\"No solution found\")"
   ]
  },
  {
   "cell_type": "markdown",
   "metadata": {},
   "source": [
    "## Deduction in the Wumpus world\n",
    "\n",
    "In this exercise you should consider the [Hunt the Wumpus](https://docs.google.com/document/d/1ySK0M-txOuIVWUGxPB02Ws_p5nSi5aLMlDQl4NMtAlk/edit?usp=sharing) domain, and use the solver to deduce facts about the given instance of the problem.\n",
    "\n",
    "Use the techniques that you learned in the previous exercises to deduce (if possible) the safe cells and the position of pits and Wumpus given the perceptions that the agent would detect from a given cell.\n",
    "\n",
    "The input is given as a matrix where cells contain either the letter `B` (breeze) or `S` (stench) according whether the agent, placed in the corresponding cell, would feel one of the two situations. We assume that the sensing information *doesn't* include the presence of pit and wumpus in the cells where they are located (see the example below for details).\n",
    "\n",
    "E.g. a possible configuration and the corresponding \"perception\" matrix would be:\n",
    "\n",
    "    +---+---+---+---+        +---+---+---+---+\n",
    "    |  P| G |   |   |        |   |  B|S  |   |\n",
    "    |   |   |   |   |        |   |   |   |   |\n",
    "    +---+---+---+---+        +---+---+---+---+\n",
    "    |   |   |W  |   |        |  B|S  |   |S B|\n",
    "    |   |   |   |   |        |   |   |   |   |\n",
    "    +---+---+---+---+ =====> +---+---+---+---+\n",
    "    |   |   |   |  P|        |   |   |S B|   |\n",
    "    |   |   |   |   |        |   |   |   |   |\n",
    "    +---+---+---+---+        +---+---+---+---+\n",
    "    |   |   |   |   |        |   |   |   |  B|\n",
    "    | A |   |   |   |        | A |   |   |   |\n",
    "    +---+---+---+---+        +---+---+---+---+\n",
    "\n",
    "Note that neither the cells where pits and wumpus are located don't sense breeze or stench coming from the same cell. They would sense neighbouring cells. \n",
    "\n",
    "\n",
    "Try to solve the following two examples by encoding using Z3 and explain the method you used."
   ]
  },
  {
   "cell_type": "markdown",
   "metadata": {},
   "source": [
    "1. **Example 1**\n",
    "    ```\n",
    "    +---+---+---+---+\n",
    "    |   |  B|  B|  B|\n",
    "    |   |   |   |   |\n",
    "    +---+---+---+---+\n",
    "    |   |  B|  B|  B|\n",
    "    |   |   |   |   |\n",
    "    +---+---+---+---+\n",
    "    |  B|   |  B|S B|\n",
    "    |   |   |   |   |\n",
    "    +---+---+---+---+\n",
    "    |   |  B|S  |   |\n",
    "    | A |   |   |   |\n",
    "    +---+---+---+---+\n",
    "    ```"
   ]
  },
  {
   "cell_type": "code",
   "execution_count": 7,
   "metadata": {},
   "outputs": [
    {
     "name": "stdout",
     "output_type": "stream",
     "text": [
      "hey\n",
      "Pit at (0, 0)\n",
      "Wumpus at (1, 2)\n",
      "Pit at (2, 3)\n"
     ]
    }
   ],
   "source": [
    "instance = [\n",
    "    [\"\", \"B\", \"S\", \"\"],\n",
    "    [\"B\", \"S\", \"\", \"SB\"],\n",
    "    [\"\", \"\", \"SB\", \"\"],\n",
    "    [\"\", \"\", \"\", \"B\"]\n",
    "]\n",
    "\n",
    "solver = Solver()\n",
    "wumpus_grid = [[Bool(f'wumpus_{i}_{j}') for j in range(4)] for i in range(4)]\n",
    "pit_grid = [[Bool(f'pit_{i}_{j}') for j in range(4)] for i in range(4)]\n",
    "\n",
    "print('hey')\n",
    "\n",
    "for i in range(4):\n",
    "    for j in range(4):\n",
    "        adj_cells = [(i - 1, j), (i + 1, j), (i, j - 1), (i, j + 1)]\n",
    "\n",
    "        if instance[i][j] == \"S\":\n",
    "            wumpus_adj = Or([wumpus_grid[x][y] for x, y in adj_cells if 0 <= x < 4 and 0 <= y < 4])\n",
    "            solver.add(wumpus_adj)\n",
    "            no_pit_adj = And([Not(pit_grid[x][y]) for x, y in adj_cells if 0 <= x < 4 and 0 <= y < 4])\n",
    "            solver.add(no_pit_adj)\n",
    "        elif instance[i][j] == \"B\":\n",
    "            pit_adj = Or([pit_grid[x][y] for x, y in adj_cells if 0 <= x < 4 and 0 <= y < 4])\n",
    "            solver.add(pit_adj)\n",
    "            no_wumpus_adj = And([Not(wumpus_grid[x][y]) for x, y in adj_cells if 0 <= x < 4 and 0 <= y < 4])\n",
    "            solver.add(no_wumpus_adj)\n",
    "        elif instance[i][j] == \"SB\":\n",
    "            wumpus_adj = Or([wumpus_grid[x][y] for x, y in adj_cells if 0 <= x < 4 and 0 <= y < 4])\n",
    "            solver.add(wumpus_adj)\n",
    "            pit_adj = Or([pit_grid[x][y] for x, y in adj_cells if 0 <= x < 4 and 0 <= y < 4])\n",
    "            solver.add(pit_adj)\n",
    "        elif instance[i][j] == \"\":\n",
    "            no_wumpus_adj = And([Not(wumpus_grid[x][y]) for x, y in adj_cells if 0 <= x < 4 and 0 <= y < 4])\n",
    "            solver.add(no_wumpus_adj)\n",
    "            no_pit_adj = And([Not(pit_grid[x][y]) for x, y in adj_cells if 0 <= x < 4 and 0 <= y < 4])\n",
    "            solver.add(no_pit_adj)\n",
    "\n",
    "if solver.check() == sat:\n",
    "    model = solver.model()\n",
    "    for i in range(4):\n",
    "        for j in range(4):\n",
    "            if is_true(model.eval(pit_grid[i][j])):\n",
    "                print(f'Pit at ({i}, {j})')\n",
    "            if is_true(model.eval(wumpus_grid[i][j])):\n",
    "                print(f'Wumpus at ({i}, {j})')\n"
   ]
  },
  {
   "cell_type": "markdown",
   "metadata": {},
   "source": [
    "2. **Example 2**\n",
    "    ```\n",
    "    +---+---+---+---+\n",
    "    |   |  B|S  |  B|\n",
    "    |   |   |   |   |\n",
    "    +---+---+---+---+\n",
    "    |  B|S B|  B|S  |\n",
    "    |   |   |   |   |\n",
    "    +---+---+---+---+\n",
    "    |  B|  B|S B|  B|\n",
    "    |   |   |   |   |\n",
    "    +---+---+---+---+\n",
    "    |  B|  B|  B|   |\n",
    "    | A |   |   |   |\n",
    "    +---+---+---+---+\n",
    "    ```"
   ]
  },
  {
   "cell_type": "code",
   "execution_count": null,
   "metadata": {},
   "outputs": [],
   "source": [
    "%%z3\n"
   ]
  },
  {
   "cell_type": "markdown",
   "metadata": {},
   "source": [
    "Now you should consider the case that only partial information is available, i.e. for some cells you don't have any information (below they're marked with `?`). This means that you can have several possible configurations (i.e. *models* in logic terms) corresponding to the available informations.\n",
    "\n",
    "You should encode the configuration below (it's the first example with some unknown cells) and verify whether the first model the solver returns is the same as the one found for the first example.\n",
    "\n",
    "```\n",
    "+---+---+---+---+\n",
    "|   |  B|  ?|  ?|\n",
    "|   |   |   |   |\n",
    "+---+---+---+---+\n",
    "|   |  B|  ?|  B|\n",
    "|   |   |   |   |\n",
    "+---+---+---+---+\n",
    "|  B|  ?|  ?|  ?|\n",
    "|   |   |   |   |\n",
    "+---+---+---+---+\n",
    "|   |  B|S  |   |\n",
    "| A |   |   |   |\n",
    "+---+---+---+---+\n",
    "```\n"
   ]
  },
  {
   "cell_type": "code",
   "execution_count": null,
   "metadata": {},
   "outputs": [],
   "source": []
  },
  {
   "cell_type": "markdown",
   "metadata": {},
   "source": [
    "## Example: enumerating all models\n",
    "\n",
    "Using the API you can write a procedure to enumerate all the models. The key to avoid the repetition of models that have been already enumerated is to add a formulae that falsify the models already discovered in such a way that they would be avoided in the search.\n",
    "\n",
    "Consider that a model is a set of variable assignments; therefore a formula that is blocking the model is the negation of the value assignments; e.g.:"
   ]
  },
  {
   "cell_type": "code",
   "execution_count": null,
   "metadata": {},
   "outputs": [],
   "source": [
    "from z3 import *\n",
    "Tie, Shirt = Bools('Tie Shirt')\n",
    "s = Solver()\n",
    "s.add(Xor(Tie, Shirt))\n",
    "\n",
    "while s.check() == sat:\n",
    "    print(s.model())\n",
    "    s.add(Or([v() != s.model()[v] for v in s.model()]))"
   ]
  },
  {
   "cell_type": "markdown",
   "metadata": {},
   "source": [
    "Note the `v()` reference to the variable from the model and be aware that the above technique doesn't work with functions and arrays, see [this](https://stackoverflow.com/a/11869410) stackoverflow answer for details. A more advanced technique is described in [Programming Z3](https://theory.stanford.edu/~nikolaj/programmingz3.html#sec-blocking-evaluations)."
   ]
  }
 ],
 "metadata": {
  "kernelspec": {
   "display_name": "Python 3 (ipykernel)",
   "language": "python",
   "name": "python3"
  },
  "language_info": {
   "codemirror_mode": {
    "name": "ipython",
    "version": 3
   },
   "file_extension": ".py",
   "mimetype": "text/x-python",
   "name": "python",
   "nbconvert_exporter": "python",
   "pygments_lexer": "ipython3",
   "version": "3.10.14"
  }
 },
 "nbformat": 4,
 "nbformat_minor": 4
}
